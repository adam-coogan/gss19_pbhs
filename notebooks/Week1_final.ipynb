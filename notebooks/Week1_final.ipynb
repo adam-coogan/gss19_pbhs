{
 "cells": [
  {
   "cell_type": "markdown",
   "metadata": {},
   "source": [
    "# Grappa Student Seminar\n",
    "### Weekly programming assignments - Week 1\n",
    "#### Dylan van Arneman, Gijs Leguijt, Sven Poelmann, Yoran Yeh\n",
    "##### June 2019"
   ]
  },
  {
   "cell_type": "markdown",
   "metadata": {},
   "source": [
    "[Github link](https://github.com/adam-coogan/GRAPPA_Student_Seminar_2019)\n",
    "\n",
    "Support $\\LaTeX$"
   ]
  },
  {
   "cell_type": "markdown",
   "metadata": {},
   "source": [
    "## Imports"
   ]
  },
  {
   "cell_type": "code",
   "execution_count": null,
   "metadata": {},
   "outputs": [],
   "source": [
    "import numpy as np\n",
    "import matplotlib\n",
    "import matplotlib.pyplot as plt\n",
    "import pandas as pd\n",
    "import math\n",
    "from scipy.constants import *\n",
    "from scipy.optimize import root\n",
    "#matplotlib.rcParams['text.usetex'] = True\n",
    "#matplotlib.rcParams['text.latex.unicode'] = True\n",
    "%matplotlib inline"
   ]
  },
  {
   "cell_type": "markdown",
   "metadata": {},
   "source": [
    "## Units & Constants"
   ]
  },
  {
   "cell_type": "markdown",
   "metadata": {},
   "source": [
    "We used natural units, $c = \\hbar = k_B = 1$, the following constants are used to convert units."
   ]
  },
  {
   "cell_type": "code",
   "execution_count": null,
   "metadata": {},
   "outputs": [],
   "source": [
    "\"\"\"Units________________________________________________________________________________________________________________\"\"\"\n",
    "eV      = 1                                                                                                  #Electron volt\n",
    "J       = eV / e                                                                                                     #Joule\n",
    "s       = 1 / (hbar * J)                                                                                            #Second\n",
    "m       = s / c                                                                                                      #Meter\n",
    "kg      = J * c**(2)                                                                                             #Kilograms\n",
    "K       = J * k                                                                                                     #Kelvin\n",
    "\n",
    "\"\"\"Constants____________________________________________________________________________________________________________\"\"\" \n",
    "\n",
    "G       = value(\"Newtonian constant of gravitation\") * (m**3 / (kg * s**2))                                #Newton constant\n",
    "M_pl    = value('Planck mass') * kg                                                                            #Planck mass\n",
    "GeV     = 1.0e9 * eV                                                                                    #Giga electron volt\n",
    "MeV     = 1.0e6 * eV                                                                                    #Mega electron volt\n",
    "G_f     = value('Fermi coupling constant') * GeV**-2                                                        #Fermi constant\n",
    "T_CMB   = 2.725 * K                                                                                        #CMB temperature\n",
    "Mpc     = 3.085e22 * m                                                                                         #Mega parsec\n",
    "cm      = m / 100                                                                                               #Centimeter\n",
    "H       = 67.8e3 * (m / s) / Mpc                                                                           #Hubble constant\n",
    "h_hub   = H / (1.0e5 * (m / s) / Mpc)                                                              #Reduced hubble constant\n",
    "rho_c   = 1.9e-26 * h_hub**2 * kg / m**3                                                                  #Critical density\n",
    "zheta_3 = 1.202                                                                              #Zheta funtion with argument 3"
   ]
  },
  {
   "cell_type": "markdown",
   "metadata": {},
   "source": [
    "## Main exercise and code\n",
    "\n",
    "In this notebook we determine the thermal freeze-out temperature of dark matter particles. We do this for two different DM cases, namely the hot dark matter (relativistic) and the cold dark matter (non-relativistic) cases. Next, we use these freeze-out temperatures to determine the current dark matter abundance."
   ]
  },
  {
   "cell_type": "markdown",
   "metadata": {},
   "source": [
    "## Part 1: Instantaneous freeze-out\n",
    "### Hot Dark Matter"
   ]
  },
  {
   "cell_type": "markdown",
   "metadata": {},
   "source": [
    "In the hot dark matter (HDM) case we have the following particle number density:\n",
    "\n",
    "$n(T_{fo}) = \\frac{\\zeta(3)}{\\pi^2} g^\\star T_{fo}^3$, where $g^\\star$ is the number of degrees of freedom of the DM particle. Note that this equation only holds for equilibrium. To calculate the DM abundance today, we have to redshift this particle density to the current time.\n",
    "\n",
    "Use $n(T_0) = n(T_{fo}) \\frac{s_0}{s_{fo}}$. We take $ \\frac{s_0}{s_{fo}} = \\frac{g_s^\\star(T_0) \\cdot (T_0)^3}{g_s^\\star(T_{fo}) \\cdot (T_{fo})^3} \\xrightarrow{} n(T_0) = n(T_{fo}) \\frac{g_s^\\star(T_0)\\cdot (T_0)^3}{g_s^\\star(T_{fo})\\cdot(T_{fo})^3}$. Here, $g_s^\\star$ is related to the entropy of the plasma and should not be confused with the degrees of freedom of the DM particle.\n",
    "\n",
    "Now to find $T_{fo}$: use the Friedmann equation and the freeze-out condition to find the freeze-out temperature. \n",
    "\n",
    "The freeze-out condition:\n",
    "$n(T_{fo}) \\sigma = H =  \\left(\\frac{8 \\pi G}{3}\\right)^3 \\rho^{1/2}$. During radiation domination the energy density is $\\rho = \\frac{\\pi^2}{30} g^\\star(T) T^4$. If we fill this in and solve for the temperature (analytically), we find: \n",
    "\n",
    "$ T_{fo}^3 = \\sqrt{\\frac{4}{45} \\frac{G \\pi^7}{g^\\star(T_{fo})}} \\frac{1}{\\zeta(3) G_F^2}$.\n",
    "\n",
    "Now we fill in this expression for $T_{fo}$ into the expression for $n(T_{fo})$, and redshift this accordingly. \n",
    "\n",
    "Finally, to determine the abundance we use $ \\Omega_{HDM} = \\frac{m n(T_0)}{\\rho_{crit}}$, and fill in $n(T_0)$ as determined above. Where we model sigma to be $\\sigma = G_F^2 T_{fo}^2$.\n",
    "\n",
    "N.B.: when we did the math it turned out $T_{fo}$ dropped out, however to keep the method between cold and hot dark matter consistent, we calculated $T_{fo}$ anyway.\n",
    "\n",
    "We plot the abundance as a function of the DM particle mass and for different cross sections, as seen in the figure below."
   ]
  },
  {
   "cell_type": "code",
   "execution_count": null,
   "metadata": {},
   "outputs": [],
   "source": [
    "#More constants\n",
    "g_s_T0 = 3.94                                                                                      #g^\\star at current time \n",
    "g_s_Tfo = 106.75                                                                                    #g^\\start at freeze out\n",
    "g_dof = 2                                                                                               #degrees of freedom"
   ]
  },
  {
   "cell_type": "code",
   "execution_count": null,
   "metadata": {},
   "outputs": [],
   "source": [
    "#Functions needed\n",
    "def fo(g_dof,G_f):\n",
    "    \"\"\"Calculates freeze out temperature\n",
    "    Input: 2 single values, output: single value\"\"\"\n",
    "    T_fo = (np.sqrt((4.0/45) * (G*(np.pi**7) /(g_dof))) * 1/(zheta_3 * G_f**2))**(1.0/3)\n",
    "    return T_fo\n",
    "\n",
    "def nd_hdm(g_dof,T_fo):\n",
    "    \"\"\"Calculates number density at freeze out temperature\n",
    "    Input: 2 single values, output: single value\"\"\"\n",
    "    n_hdm = (zheta_3* g_dof*T_fo**3 )/np.pi**2\n",
    "    return n_hdm\n",
    "\n",
    "def abun(n_fo,mass):\n",
    "    \"\"\"Calculates abundancy\n",
    "    Input: 2 single values, output: single value\"\"\"\n",
    "    n_0       = n_fo*(g_s_T0 * T_CMB**3)/(g_s_Tfo * T_fo**3)                                 #Number density at current time\n",
    "    Omega_hdm = mass * n_0 / rho_c\n",
    "    return Omega_hdm"
   ]
  },
  {
   "cell_type": "code",
   "execution_count": null,
   "metadata": {},
   "outputs": [],
   "source": [
    "#To test the code in 1 particular case\n",
    "mass = np.linspace(1.0e-2,1.0e2,500)                                                               #Sets a linspace for mass\n",
    "T_fo = fo(g_dof,G_f)                                                                                 #Calculates T_freezeout\n",
    "n_fo = nd_hdm(g_dof,T_fo)                                                                         #Calculates number density\n",
    "omega_hdm = abun(n_fo,mass)                                                                        #Calculates the abundancy\n",
    "\n",
    "plt.figure(1,figsize=(14, 6))                                  #Plots the HDM-abundance as function of mass on semilog scale\n",
    "plt.semilogx(mass,omega_hdm,label = r'$\\Omega_{HDM}$')\n",
    "plt.ylabel(r'$\\Omega_{HDM}$ ',fontsize=18)\n",
    "plt.xlabel(r'Mass [$eV$]',fontsize=18)\n",
    "\n",
    "plt.tick_params(axis='both', which='major', labelsize=20)\n",
    "plt.title(r'$\\Omega_{HDM}$ for Hot Dark Matter',fontsize=20)\n",
    "plt.grid(True)\n",
    "\n",
    "plt.legend(prop=dict(size=18))\n",
    "plt.show()"
   ]
  },
  {
   "cell_type": "code",
   "execution_count": null,
   "metadata": {},
   "outputs": [],
   "source": [
    "#HDM abundance as function of mass for different cross-section\n",
    "plt.figure(1,figsize=(14, 6))\n",
    "factor = np.logspace(-1,2,4)                                  #used to vary the Fermi's constant and thus the cross-section \n",
    "mass   = np.linspace(1.0e-2,1.0e2,500)\n",
    "\n",
    "for i in factor:\n",
    "    T_fo      = fo(g_dof,i*G_f)                                                                     #Freeze out temperature\n",
    "    n_fo      = nd_hdm(g_dof,T_fo)                                                            #Number density at freeze out\n",
    "    omega_hdm = abun(n_fo,mass)                                                                           #Abundance of hdm\n",
    "    plt.loglog(mass,omega_hdm,label = r'$factor = %s $'%i)                              #plot the given case in loglogscale\n",
    "                                                                                      \n",
    "plt.ylabel(r'$\\Omega_{HDM}$ ', fontsize=18)\n",
    "plt.xlabel(r'Mass [$eV$]', fontsize=18)\n",
    "\n",
    "plt.tick_params(axis='both', which='major', labelsize=20)\n",
    "plt.title(r'$\\Omega_{HDM}$ for Hot Dark Matter', fontsize=20)\n",
    "plt.grid(True)\n",
    "\n",
    "plt.legend(prop=dict(size=18))\n",
    "plt.show()"
   ]
  },
  {
   "cell_type": "markdown",
   "metadata": {},
   "source": [
    "### Cold Dark Matter"
   ]
  },
  {
   "cell_type": "markdown",
   "metadata": {},
   "source": [
    "The cold dark matter (CDM) case is very similar to the HDM case (see above), except that the particle density is now given by a different expression: \n",
    "$n_{CDM}(T) = g^\\star\\left( \\frac{m T}{2 \\pi} \\right)^{3/2} e^{-m/T}$. \n",
    "\n",
    "Now solving the Hubble equation for $T_{fo}$ cannot be done analytically, so we solve it numerically. For a non relativistic particle we take $\\frac{1}{3}c n(T) \\sigma = \\sqrt{\\frac{8 \\pi G}{3}}\\rho^{1/2}.$ Same as before, we take the radiation dominated energy density and model the cross section as $\\sigma = G_F^2 T^2$. Now we will express $T_{fo}$ in terms of the dimensionless quantity $x \\equiv \\frac{m}{T}$. We expect $x$ to be linearly proportional to the mass $m$. We make a plot of this to cross check our results, which can be seen below.\n",
    "\n",
    "\n",
    "Now that we have $T_{fo}$, we fill this into $n(T_{fo})$, redshift this to $n(T_0)$ and finally fill into $\\Omega_{CDM} = \\frac{m n(T_0)}{\\rho_c}$. Again, we plot this abundance as a function of the mass, for different values of the cross section.\n"
   ]
  },
  {
   "cell_type": "code",
   "execution_count": null,
   "metadata": {},
   "outputs": [],
   "source": [
    "#Calculate the relation between x and mass\n",
    "def func3(T,mass,G_f):\n",
    "    \"\"\"Function needed to solve the Hubble equation, numerically and find T_fo\n",
    "    Input: 3 single values, output: single value\"\"\"\n",
    "    func3 = np.sqrt(g_s_T0) * G_f**2  *np.exp(-mass/T) - np.sqrt(32*G/5)*(np.pi**3) *(mass*T)**(-3/2)\n",
    "    return func3\n",
    "\n",
    "def cal_Tcdm(mass,G_f):\n",
    "    \"\"\"Calculates T_fo for a given mass\n",
    "    Input: 2 single values, output: single value\"\"\"\n",
    "    T_cdm = root(func3,T_fo,args = (mass,G_f))\n",
    "    return T_cdm\n",
    "\n",
    "x_l = []\n",
    "for i in mass:\n",
    "    j = i * GeV                                                                                  #to have mass in GeV range\n",
    "    T_cdm = cal_Tcdm(j,G_f)\n",
    "    x_l.append(j/T_cdm['x'])                                                                       #saving the calculated x\n",
    "\n",
    "plt.figure(1,figsize=(14, 6))                              #Plotting x at freeze out as a function of mass on semilog scale\n",
    "plt.semilogx(mass, x_l)\n",
    "plt.xlabel(r'$Mass$ [$GeV$] ',fontsize=18)\n",
    "plt.ylabel(r'x',fontsize=18)\n",
    "\n",
    "plt.tick_params(axis='both', which='major', labelsize=20)\n",
    "plt.title(r'$T_{fo}$ relations to mass',fontsize=20)\n",
    "plt.grid(True)\n",
    "\n",
    "# plt.legend(prop=dict(size=18))\n",
    "plt.show()"
   ]
  },
  {
   "cell_type": "code",
   "execution_count": null,
   "metadata": {},
   "outputs": [],
   "source": [
    "def nd_cdm(m,T,g):\n",
    "    \"\"\"Calculates the number density\n",
    "    Input: 3 single values, output: single value\"\"\"\n",
    "    n_cdm = g*(m*T/(2*np.pi))**(3/2) *np.exp(-m/T)\n",
    "    return n_cdm\n",
    "\n",
    "def ab_cdm(m,n,T_fo):\n",
    "    \"\"\"Calculates the abundance\n",
    "    Input: 3 single values, output: single value\"\"\"\n",
    "    n_0 = n*(g_s_T0 * T_CMB**3)/(g_s_Tfo * T_fo**3)\n",
    "    return m*n_0/rho_c"
   ]
  },
  {
   "cell_type": "markdown",
   "metadata": {},
   "source": [
    "### Intermezzo - Extracting $g_s^\\star$\n",
    "\n",
    "In the cells below we extract and interpolate the degrees of freedom from the plasma. Since different particles decouple at different temperatures of the plasma, $g_s^\\star$ can be seen as a function dependent on the temperature $T$. Here we determine this function and interpolate it for different values of $T$."
   ]
  },
  {
   "cell_type": "code",
   "execution_count": null,
   "metadata": {},
   "outputs": [],
   "source": [
    "#Shows the degrees of freedom as function which we use\n",
    "#it remains constant outside the range of the data\n",
    "from numpy import genfromtxt\n",
    "from scipy.interpolate import interp1d\n",
    "from scipy.integrate import odeint\n",
    "\n",
    "my_data = genfromtxt('data.csv', delimiter=',')\n",
    "x       = my_data[:,0]\n",
    "y       = my_data[:,1]\n",
    "g       = interp1d(x,y,fill_value=\"extrapolate\")\n",
    "T       = np.logspace(-3,7,1.0e7)\n",
    "\n",
    "plt.figure(1,figsize=(14, 6))\n",
    "plt.semilogx(T,g(T),label = 'Interpolated function')\n",
    "plt.semilogx(x,y,label = \"Analytical\")\n",
    "plt.ylabel(r'$g^\\star$',fontsize=18)\n",
    "plt.xlabel(r'$T$ [$MeV$]',fontsize=18)\n",
    "\n",
    "plt.tick_params(axis='both', which='major', labelsize=20)\n",
    "plt.title(r'$g^\\star$ as function of T ', fontsize=20)\n",
    "plt.legend(prop=dict(size=18))\n",
    "plt.grid(True)"
   ]
  },
  {
   "cell_type": "code",
   "execution_count": null,
   "metadata": {},
   "outputs": [],
   "source": [
    "#Plots the cold dark matter abundance as function of mass\n",
    "#For different cross section and shows the difference between \n",
    "#assuming constant degrees of freedom and as function of T\n",
    "plt.figure(1,figsize=(18, 12))\n",
    "mass   = np.linspace(1.0,1.0e2,500)\n",
    "factor = np.logspace(-1,2,4)\n",
    "\n",
    "for k in factor:\n",
    "    omega_l = [] #List which uses constant g^\\star\n",
    "    omega_c = [] #List which uses variable g^\\star\n",
    "    \n",
    "    for i in mass:\n",
    "        j = i * GeV\n",
    "        T_cdm = cal_Tcdm(j,k*G_f)['x'][0]\n",
    "        \n",
    "        #calculate the cdm abundance for constant g^\\star\n",
    "        n_cdm     = nd_cdm(j,T_cdm,g_dof) #Number density\n",
    "        omega_cdm = ab_cdm(j,n_cdm,T_cdm) #Abundance\n",
    "        omega_l.append(omega_cdm)\n",
    "\n",
    "        #calculate the cdm abundance for g^\\star as function of T\n",
    "        n_cc = nd_cdm(j,T_cdm,g(T_cdm/MeV)) #Number density\n",
    "        omega_cc = ab_cdm(j,n_cc,T_cdm) #Abundance\n",
    "        omega_c.append(omega_cc)\n",
    "\n",
    "    plt.loglog(mass, omega_l,label = '$g^\\star = constant, factor = %s$' %k)\n",
    "    plt.loglog(mass, omega_c,label = '$g^\\star = f(T), factor = %s$' %k)\n",
    "\n",
    "plt.xlabel(r'Mass [$GeV$]',fontsize=18)\n",
    "plt.ylabel(r'$\\Omega_{CDM}$',fontsize=18)\n",
    "\n",
    "plt.tick_params(axis='both', which='major', labelsize=20)\n",
    "plt.title(r'$\\Omega_{CDM}$ for Cold Dark Matter',fontsize=20)\n",
    "plt.grid(True)\n",
    "\n",
    "plt.legend(prop=dict(size=15))\n",
    "plt.show()"
   ]
  },
  {
   "cell_type": "markdown",
   "metadata": {},
   "source": [
    "## Part 2: Non-instantaneous freeze-out\n",
    "We now have to solve the differential equation given in [Steigman et al.](https://arxiv.org/pdf/1204.3622.pdf):\n",
    "\n",
    "$\\frac{dY}{dx}= \\frac{s \\left<\\sigma v\\right>}{Hx}\\left(1+\\frac{1}{3}\\frac{d(\\ln g_s^\\star)}{d(\\ln T)}\\right)\\left(Y^2_{eq} - Y^2 \\right)$. \n",
    "\n",
    "We also know\n",
    "$Y_{eq}=\\frac{45}{2 \\pi^4} \\left(\\frac{\\pi}{8}\\right)^{1/2} \\frac{g_{\\chi}}{g_s^\\star} x^{3/2} e^{-x}$, $s=\\frac{2 \\pi^2}{45} g_s^\\star \\left(\\frac{m}{x}\\right)^3$, $H = \\sqrt{\\frac{ 8 \\pi G }{3} \\cdot \\frac{\\pi^2 \\rho}{30}} \\left(\\frac{m}{x}\\right)^2$ and $x \\equiv \\frac{m}{T}$. If we now rewrite the above equation in terms of $x$ and not $T$, we get the following expression:\n",
    "\n",
    "$\\frac{dY}{dx}= \\left<\\sigma v\\right> \\frac{2 \\pi^2}{45} g_s^\\star \\frac{m}{x^2} \\sqrt{\\frac{90}{8 \\pi^3 G g_s^\\star}} \\left(1-\\frac{m}{3}\\frac{d(\\ln g_s^\\star)}{d x}\\right)\\left( \\left( \\frac{45}{2 \\pi^4} \\cdot \\frac{g_{\\chi}}{g_s^\\star}\\right)^2 \\frac{\\pi}{8} x^3 e^{-2x} - Y^2 \\right)$. We now have to solve this differential equation and plot $Y$ as a function of $T$.\n",
    "\n",
    "In order to do this, we must first make several assumptions. The first assumption is that the relativistic degrees of freedom of the plasma, $g_s^\\star (T)$, can be treated as a step function (see intermezzo above). We also assume $ \\left< \\sigma v \\right>$ is given by the equipartition theorem.\n",
    "\n",
    "We have extracted the values for $g_s^\\star$ from [Steigman et al.](https://arxiv.org/pdf/1204.3622.pdf). and interpolated them to obtain a function for $g_s^\\star$."
   ]
  },
  {
   "cell_type": "code",
   "execution_count": null,
   "metadata": {},
   "outputs": [],
   "source": [
    "# In this cell we calculate the derivative of ln(g^\\star) with respect to ln(T) \n",
    "\n",
    "# calculate a range for mass and x, where variable x is denoted as m_T\n",
    "mass = np.logspace(-1,4,1.0e6) * GeV\n",
    "m_T  = np.logspace(-5,10,1.0e6) \n",
    "\n",
    "# calculate the logarithmic derivative. Our function g^\\star can be written as g(T)=g(mass/m_T) and\n",
    "# the derivative d/dlog(x) is rewritten to x*(d/dx)\n",
    "step_size = 0.0001\n",
    "derivs    = -m_T*(np.log(g(mass/m_T - step_size*mass/m_T)) -np.log(g(mass/m_T)))/(step_size*m_T)\n",
    "\n",
    "plt.figure(1,figsize=(14, 6))\n",
    "plt.semilogx(mass/m_T,derivs)\n",
    "plt.ylabel(r'$\\frac{\\partial g^\\star}{\\partial T}$',fontsize=18)\n",
    "plt.xlabel(r'$T$ [$MeV$]',fontsize=18)\n",
    "\n",
    "plt.tick_params(axis='both', which='major', labelsize=20)\n",
    "plt.title(r'derivative $g^\\star$ as function of T ',fontsize=20)\n",
    "plt.grid(True)"
   ]
  },
  {
   "cell_type": "code",
   "execution_count": null,
   "metadata": {},
   "outputs": [],
   "source": [
    "#mass = np.logspace(-1,4,1.0e6)\n",
    "mass    = 1 * GeV\n",
    "m_T     = np.logspace(-3,3,1.0e6)\n",
    "sigma_v = 1.0e-25 * cm**3 / s\n",
    "Lambda  = (2.67e35) * mass * sigma_v\n",
    "\n",
    "\n",
    "# define our derivative in terms of T as a function\n",
    "logderiv = interp1d(mass/m_T,derivs,fill_value=\"extrapolate\") \n",
    "\n",
    "def model(w,x):\n",
    "    \"\"\"ODE from Steigman\"\"\"\n",
    "    \n",
    "    # calculate weq with the approximation that we can use the non-rel. expression for n_eq (see Steigman) \n",
    "    weq = math.log(0.145*(1/g(x)) * (x**(3./2))*math.exp(-x))\n",
    "    \n",
    "    # this is equation 23 from Steigman, where we made the assumption that g_rho ~ 1\n",
    "    dwdx = (Lambda/(x**2))*(1+(1/3)*logderiv(mass/x))*(np.exp(2*weq-w)-np.exp(w))*g(mass/x)\n",
    "    return dwdx\n",
    "\n",
    "# initial condition, for now a random guess\n",
    "w0 = 1e-3\n",
    "\n",
    "# time points\n",
    "x = np.linspace(1e-5,1.0e-4,100)\n",
    "\n",
    "# solve ODE\n",
    "w = odeint(model,w0,x,mxstep=6000000) #mstep to avoid a warning\n",
    "\n",
    "# plot Y vs x (using Y = exp(w))\n",
    "plt.figure(1,figsize=(14, 6))\n",
    "plt.plot(x,np.exp(w))\n",
    "plt.ylabel(r'$Y$',fontsize=18)\n",
    "plt.xlabel(r'$x$',fontsize=18)\n",
    "\n",
    "plt.tick_params(axis='both', which='major', labelsize=20)\n",
    "plt.title(r'Y as function of x ',fontsize=20)\n",
    "plt.grid(True)\n",
    "plt.show()"
   ]
  }
 ],
 "metadata": {
  "kernelspec": {
   "display_name": "Python 3",
   "language": "python",
   "name": "python3"
  },
  "language_info": {
   "codemirror_mode": {
    "name": "ipython",
    "version": 3
   },
   "file_extension": ".py",
   "mimetype": "text/x-python",
   "name": "python",
   "nbconvert_exporter": "python",
   "pygments_lexer": "ipython3",
   "version": "3.6.5"
  }
 },
 "nbformat": 4,
 "nbformat_minor": 2
}

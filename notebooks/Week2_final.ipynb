{
 "cells": [
  {
   "cell_type": "markdown",
   "metadata": {},
   "source": [
    "# Grappa Student Seminar\n",
    "### Weekly programming assignments - Week 2\n",
    "#### Dylan van Arneman, Gijs Leguijt, Sven Poelmann, Yoran Yeh\n",
    "##### June 2019 "
   ]
  },
  {
   "cell_type": "markdown",
   "metadata": {},
   "source": [
    "[Github link](https://github.com/adam-coogan/GRAPPA_Student_Seminar_2019)\n"
   ]
  },
  {
   "cell_type": "markdown",
   "metadata": {},
   "source": [
    "## Imports "
   ]
  },
  {
   "cell_type": "code",
   "execution_count": null,
   "metadata": {},
   "outputs": [],
   "source": [
    "import numpy as np\n",
    "import matplotlib\n",
    "import matplotlib.pyplot as plt\n",
    "import pandas as pd\n",
    "import math\n",
    "from scipy.constants import *\n",
    "from scipy.optimize import root\n",
    "from scipy.integrate import *\n",
    "from scipy.interpolate import interp1d\n",
    "# matplotlib.rcParams['text.usetex'] = True\n",
    "# matplotlib.rcParams['text.latex.unicode'] = True\n",
    "%matplotlib inline\n"
   ]
  },
  {
   "cell_type": "markdown",
   "metadata": {},
   "source": [
    "## Units & constants"
   ]
  },
  {
   "cell_type": "code",
   "execution_count": null,
   "metadata": {},
   "outputs": [],
   "source": [
    "\"\"\"Units________________________________________________________________________________________________________________\"\"\"\n",
    "eV      = 1                                                                                                  #Electron volt\n",
    "J       = eV / e                                                                                                     #Joule\n",
    "s       = 1 / (hbar * J)                                                                                            #Second\n",
    "m       = s / c                                                                                                      #Meter\n",
    "kg      = J * c**(2)                                                                                             #Kilograms\n",
    "K       = J * k                                                                                                     #Kelvin\n",
    "\n",
    "\"\"\"Constants____________________________________________________________________________________________________________\"\"\" \n",
    "\n",
    "G       = value(\"Newtonian constant of gravitation\") * (m**3 / (kg * s**2))                                #Newton constant\n",
    "M_pl    = value('Planck mass') * kg                                                                            #Planck mass\n",
    "M_sun   = 1.989e30 * kg                                                                                         #Solar mass\n",
    "GeV     = 1.0e9 * eV                                                                                    #Giga electron volt\n",
    "MeV     = 1.0e6 * eV                                                                                    #Mega electron volt\n",
    "G_f     = value('Fermi coupling constant') * GeV**-2                                                        #Fermi constant\n",
    "T_CMB   = 2.725 * K                                                                                        #CMB temperature\n",
    "pc      = 3.085e16 * m                                                                                              #Parsec\n",
    "kpc     = 1.0e3 * pc                                                                                           #Kilo parsec\n",
    "Mpc     = 1.0e6 * pc                                                                                           #Mega parsec\n",
    "km      = 1.0e3 * m                                                                                               #Kilomter\n",
    "cm      = 1.0e-2 * m                                                                                            #Centimeter\n",
    "H       = 67.8 * (km / s) / Mpc                                                                           #Hubble constant\n",
    "h_hub   = H / (1.0e5 * (m / s) / Mpc)                                                              #Reduced hubble constant\n",
    "rho_c   = 1.9e-26 * h_hub**2 * kg / m**3                                                                  #Critical density\n",
    "zheta_3 = 1.202                                                                              #Zheta funtion with argument 3"
   ]
  },
  {
   "cell_type": "markdown",
   "metadata": {},
   "source": [
    "## Tasks\n",
    "In this notebook we determine the J-factor of the Milky Way. We tackle three main tasks:\n",
    "\n",
    "   1) Estimate $r_s$ and $\\rho_s$ for the Milky Way halo.\n",
    "   \n",
    "   2) Determining $\\frac{d J}{d \\Omega}$ as a funciton of the angle $\\psi$ .\n",
    "   \n",
    "   3) Determine $J$ around the Galactic center within 0.5 degrees.\n"
   ]
  },
  {
   "cell_type": "markdown",
   "metadata": {},
   "source": [
    "## Task 1: Estimating Galactic parameters"
   ]
  },
  {
   "cell_type": "markdown",
   "metadata": {},
   "source": [
    "In order to calculate the J-factor, we need to use the NFW density profile:\n",
    "\n",
    "$$ \\rho(r) = \\frac{ \\rho_s}{\\left(r/r_s\\right) \\left(r/r_s+1\\right)^2}. $$\n",
    "\n",
    "Here the characteristic density, $\\rho_s$, is given by\n",
    "\n",
    "$$ \\frac{M}{4 \\pi r_s^3 \\left[ \\ln(1+c_{\\rm vir}) - c_{\\rm vir}{\\large/}(1+c_{\\rm vir}) \\right]}, $$\n",
    "\n",
    "the scale radius is given by \n",
    "\n",
    "$$ r_s = \\frac{r_{\\rm vir}}{c_{\\rm vir}} $$\n",
    "\n",
    "and the virial radius is given by \n",
    "\n",
    "$$ r_{\\rm vir} = \\left( \\frac{3 M}{4 \\pi \\Delta_{\\rm vir}(z) \\rho_c(z)}\\right)^{1/3}. $$\n",
    "\n",
    "The starting values are given in the cell below."
   ]
  },
  {
   "cell_type": "code",
   "execution_count": null,
   "metadata": {},
   "outputs": [],
   "source": [
    "Delta = 18 * np.pi**2                                                             #Overdensity halos compared to background\n",
    "c_vir = 10                                                                                              #Halo concentration\n",
    "M     = 1.0e12 * M_sun                                                                                      #Mass of galaxy\n",
    "d_gal = 8178 * pc                                                                              #Distance to galactic center"
   ]
  },
  {
   "cell_type": "code",
   "execution_count": null,
   "metadata": {},
   "outputs": [],
   "source": [
    "def f_rvir(M):\n",
    "    \"\"\"Calculates virualised radius\n",
    "    Input: single value, output: single value\"\"\"\n",
    "    return (3 * M / (4 * np.pi * Delta * rho_c))**(1./3)\n",
    "\n",
    "def f_rs(M):\n",
    "    \"\"\"Calculates scale radius\n",
    "    Input: single value, output: single value\"\"\"\n",
    "    return f_rvir(M) / c_vir\n",
    "\n",
    "def f_rhos(M):\n",
    "    \"\"\"Calculates density normalisation factor\n",
    "    Input: single value, output: single value\"\"\"\n",
    "    return M / (4 * np.pi * f_rs(M)**3 * (np.log(1 + c_vir) - c_vir / (1 + c_vir)))"
   ]
  },
  {
   "cell_type": "code",
   "execution_count": null,
   "metadata": {},
   "outputs": [],
   "source": [
    "r_s = f_rs(M)                                                                                                 #Scale radius\n",
    "r_vir = f_rvir(M)                                                                                        #Virualised radius\n",
    "rho_s = f_rhos(M)                                                                                    #Density normalisation"
   ]
  },
  {
   "cell_type": "code",
   "execution_count": null,
   "metadata": {},
   "outputs": [],
   "source": [
    "def rho(r,r_s = r_s,rho_s = rho_s):\n",
    "    \"\"\"Calculates density profile\n",
    "    Input: 1D array, output: 1D array\"\"\"\n",
    "    x = r/r_s\n",
    "    return rho_s / (x * (x+1)**2)"
   ]
  },
  {
   "cell_type": "code",
   "execution_count": null,
   "metadata": {},
   "outputs": [],
   "source": [
    "print('rho_s= %s'%(f_rhos(M) / GeV * cm**3))\n",
    "print('Virial radius = %s'%(f_rvir(M)/kpc))\n",
    "print('Scale radius = %s'%(f_rs(M)/kpc))"
   ]
  },
  {
   "cell_type": "markdown",
   "metadata": {},
   "source": [
    "## Task 2: Determine differential J-factor"
   ]
  },
  {
   "cell_type": "markdown",
   "metadata": {},
   "source": [
    "In this part we determine the diffrerential J-factor by solving the following line-of-sight integral:\n",
    "\n",
    "$$ \\frac{d J}{d \\Omega}  = \\int d l \\rho^2(r(l,\\Omega)).$$\n",
    "\n",
    "Since this is an intgral over the line-of-sight, $l$, and not the radius, $r$, we need to rewrite some of the variables.\n",
    "\n",
    "Do this using the law of cosines:\n",
    "\n",
    "$$ r^2 = d^2 + l^2 + 2d l \\cos \\theta  ,$$\n",
    "\n",
    "where $d$ is the distance between us (earth) and the Galactic center."
   ]
  },
  {
   "cell_type": "code",
   "execution_count": null,
   "metadata": {},
   "outputs": [],
   "source": [
    "def f_rl(l,psi,d=d_gal):\n",
    "    \"\"\"Calculates r as a function of line of sight\n",
    "    Input: 1 array and 1 single value, output: array\"\"\"\n",
    "    return np.sqrt(l**2 + d**2 - 2 * d * l * np.cos(psi))\n",
    "\n",
    "def integrand(l,psi):\n",
    "    \"\"\"Integrand of dJ/dOmega, to be integrated over dl\n",
    "    Input: 1 array and 1 single value, output: 1D array\"\"\" \n",
    "    r = f_rl(l,psi)\n",
    "    return rho(r)**2\n",
    "\n",
    "def dJdO(psi,d=d_gal):\n",
    "    \"\"\"Calculates dJ/dOmega by integration over dl\n",
    "    Input: single value, output: single value\"\"\"\n",
    "    l_min = 0\n",
    "    l_max = 10 * d\n",
    "    return quad(integrand,l_min,l_max,args=(psi,))\n",
    "#domega = 2pi sinpsi dpsi\n",
    "def dJdpsi(psi,d=d_gal):\n",
    "    \"\"\"Returns dJ/dpsi\n",
    "    Input: single value, output: single value\"\"\"\n",
    "    return dJdO(psi)[0] * 2 * np.pi #* np.sin(psi)"
   ]
  },
  {
   "cell_type": "markdown",
   "metadata": {},
   "source": [
    "Now we solve this integral for various values of the angle $\\psi.$"
   ]
  },
  {
   "cell_type": "code",
   "execution_count": null,
   "metadata": {
    "scrolled": false
   },
   "outputs": [],
   "source": [
    "arr_psi=np.linspace(np.pi/3600,np.pi/360,1000)                            #Angles close to galactic center up to 45 degrees\n",
    "L_dJdO = []                                                                       #List to contain dJ/dOmega for all angles\n",
    "\n",
    "for psi in arr_psi:                                                                   #Calculating dJ/dOmega for all angles\n",
    "    dJ=dJdO(psi)\n",
    "    L_dJdO.append(dJ[0])\n",
    "arr_dJdO = np.asarray(L_dJdO)\n",
    "\n",
    "plt.figure(1,figsize=(14, 6))                                                                       #Plot showing dJ/dOmega\n",
    "plt.plot(arr_psi/np.pi,arr_dJdO*cm**5/GeV**2)\n",
    "plt.xlabel(r'radians in $\\pi$',fontsize = 18)\n",
    "plt.ylabel(r'$\\frac{d\\>J}{d\\Omega}$ $[GeV^2cm^{-5}]$',fontsize = 18)\n",
    "plt.tick_params(axis='both', which='major', labelsize=20)\n",
    "plt.title(r'Differential $J$-factor as function of $\\psi$ ', fontsize=20)\n",
    "plt.grid(True)\n",
    "plt.show()"
   ]
  },
  {
   "cell_type": "markdown",
   "metadata": {},
   "source": [
    "## Task 3: Calculating the J-factor\n",
    "\n",
    "Now we determine the J-factor by including the solid angle in our calculation. As the problem is spherically symmetric, the conversion from $\\frac{dJ}{d\\Omega}$ to $\\frac{dJ}{d\\psi}$ is simply adding a factor of $2\\pi$.\n",
    "\n",
    "To avoid insensible calculations at $\\psi = 0$, we integrate from a minimum angle outward to the desired angle. Thus creating an integrated cone, with a tiny cone missing in the middle.\n",
    "\n",
    "By reducing the minimum angle, the part missing from the integrated cone becomes smaller, up to the point where reducing the minimum angle further yields problems with integration. To find a value for the full integrated cone, we extrapolate our calculation to $\\psi_{min} = 0$."
   ]
  },
  {
   "cell_type": "code",
   "execution_count": null,
   "metadata": {
    "scrolled": false
   },
   "outputs": [],
   "source": [
    "L_J = []                                                                                      #List to contain values for J\n",
    "divisions = np.logspace(np.log10(1.0e4),np.log10(1.0e5),50)                   #Array to set multiple values for minimal psi\n",
    "psi_min = np.pi / divisions                                           #Setting minimum angle, close to center of the galaxy\n",
    "for angle in psi_min:\n",
    "    L_J.append(quad(dJdpsi,angle,np.pi/360)[0]*(cm**5)/(GeV**2))\n",
    "\n",
    "plt.figure(1,figsize=(14, 6))        #Figure plotting integral of J 0.5 degrees from galactic center, varying minimal angle\n",
    "plt.semilogy(psi_min[1:], L_J[1:], 'r-o')\n",
    "plt.xlabel(r'$\\psi_{\\rm min}$',fontsize = 18)\n",
    "plt.ylabel(r'J $[GeV^2cm^{-5}]$',fontsize = 18)\n",
    "plt.tick_params(axis='both', which='major', labelsize=20)\n",
    "plt.title(r'J as function of $\\theta_{min}$ ', fontsize=20)\n",
    "plt.grid(True)\n",
    "plt.show()"
   ]
  },
  {
   "cell_type": "code",
   "execution_count": null,
   "metadata": {},
   "outputs": [],
   "source": [
    "def poly(x_fit,y_fit,deg,x):\n",
    "    \"\"\"Fits a polynomial through the data\n",
    "    Input: 2 1D arrays, 1 single value and 1D array, output: 1D array\"\"\"\n",
    "    output = 0\n",
    "    fit = np.polyfit(x_fit,y_fit,deg)\n",
    "    for i in range(deg+1):\n",
    "        output += fit[i] * x**(deg-i)\n",
    "    return output"
   ]
  },
  {
   "cell_type": "code",
   "execution_count": null,
   "metadata": {},
   "outputs": [],
   "source": [
    "psi = np.linspace(0,0.0003,100)                                                     #Setting a linespace for minimum angles\n",
    "\n",
    "plt.figure(1,figsize=(14, 6))         #Figure plotting integral of J 0.5 degrees from galactic center, extrapolated to zero\n",
    "plt.semilogy(psi, poly(psi_min,L_J,7,psi), 'b-',label = 'Extrapolated')\n",
    "plt.semilogy(psi_min[1:], L_J[1:], 'ro',label = 'Calculated')\n",
    "plt.xlabel(r'$\\psi_{\\rm min}$',fontsize = 18)\n",
    "plt.ylabel(r'J $[GeV^2cm^{-5}]$',fontsize = 18)\n",
    "plt.tick_params(axis='both', which='major', labelsize=20)\n",
    "plt.title(r'J as function of $\\psi_{min}$, extrapolating for 0 ', fontsize=20)\n",
    "plt.legend(prop=dict(size=18))\n",
    "plt.grid(True)"
   ]
  },
  {
   "cell_type": "code",
   "execution_count": null,
   "metadata": {},
   "outputs": [],
   "source": [
    "final_value = poly(psi_min,L_J,7,psi)[0] / 1.0e23\n",
    "print ('As a final value for J we find: %.2f e23 GeV^2 cm^-5' % final_value)"
   ]
  }
 ],
 "metadata": {
  "kernelspec": {
   "display_name": "Python 3",
   "language": "python",
   "name": "python3"
  },
  "language_info": {
   "codemirror_mode": {
    "name": "ipython",
    "version": 3
   },
   "file_extension": ".py",
   "mimetype": "text/x-python",
   "name": "python",
   "nbconvert_exporter": "python",
   "pygments_lexer": "ipython3",
   "version": "3.6.5"
  }
 },
 "nbformat": 4,
 "nbformat_minor": 2
}

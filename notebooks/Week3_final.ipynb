{
 "cells": [
  {
   "cell_type": "markdown",
   "metadata": {},
   "source": [
    "# Grappa Student Seminar\n",
    "### Weekly programming assignments - Week 3\n",
    "#### Dylan van Arneman, Gijs Leguijt, Sven Poelmann, Yoran Yeh\n",
    "##### June 2019 \n",
    "\n",
    "[Github link](https://github.com/adam-coogan/GRAPPA_Student_Seminar_2019)\n",
    "\n",
    "\n",
    "## Imports "
   ]
  },
  {
   "cell_type": "code",
   "execution_count": null,
   "metadata": {},
   "outputs": [],
   "source": [
    "import numpy as np\n",
    "import matplotlib\n",
    "import matplotlib.pyplot as plt\n",
    "import pandas as pd\n",
    "import math\n",
    "from scipy.constants import *\n",
    "from scipy.optimize import root\n",
    "from scipy.integrate import *\n",
    "from scipy.interpolate import interp1d\n",
    "# matplotlib.rcParams['text.usetex'] = True\n",
    "# matplotlib.rcParams['text.latex.unicode'] = True\n",
    "%matplotlib inline"
   ]
  },
  {
   "cell_type": "code",
   "execution_count": null,
   "metadata": {},
   "outputs": [],
   "source": [
    "\"\"\"Units________________________________________________________________________________________________________________\"\"\"\n",
    "eV      = 1                                                                                                  #Electron volt\n",
    "J       = eV / e                                                                                                     #Joule\n",
    "s       = 1 / (hbar * J)                                                                                            #Second\n",
    "m       = s / c                                                                                                      #Meter\n",
    "kg      = J * c**(2)                                                                                             #Kilograms\n",
    "K       = J * k                                                                                                     #Kelvin\n",
    "\n",
    "\"\"\"Constants____________________________________________________________________________________________________________\"\"\" \n",
    "\n",
    "gr      = 1.0e-3 * kg                                                                                                 #Gram\n",
    "G       = value(\"Newtonian constant of gravitation\") * (m**3 / (kg * s**2))                                #Newton constant\n",
    "M_pl    = value('Planck mass') * kg                                                                            #Planck mass\n",
    "M_sun   = 1.989e30 * kg                                                                                         #Solar mass\n",
    "m_p     = 1.67e-27 * kg                                                                                        #Proton mass\n",
    "GeV     = 1.0e9 * eV                                                                                    #Giga electron volt\n",
    "MeV     = 1.0e6 * eV                                                                                    #Mega electron volt\n",
    "keV     = 1.0e3 * eV                                                                                    #Kilo electron volt\n",
    "G_f     = value('Fermi coupling constant') * GeV**-2                                                        #Fermi constant\n",
    "T_CMB   = 2.725 * K                                                                                        #CMB temperature\n",
    "pc      = 3.085e16 * m                                                                                              #Parsec\n",
    "kpc     = 1.0e3 * pc                                                                                           #Kilo parsec\n",
    "Mpc     = 1.0e6 * pc                                                                                           #Mega parsec\n",
    "km      = 1.0e3 * m                                                                                              #Kilometer\n",
    "cm      = 1.0e-2 * m                                                                                            #Centimeter\n",
    "H       = 67.8 * (km / s) / Mpc                                                                            #Hubble constant\n",
    "h_hub   = H / (1.0e2 * (km / s) / Mpc)                                                             #Reduced hubble constant\n",
    "rho_c   = 1.9e-26 * h_hub**2 * kg / m**3                                                                  #Critical density\n",
    "zheta_3 = 1.202                                                                              #Zheta funtion with argument 3\n",
    "u       = value('atomic mass constant') * kg                                                              #Atomic mass unit\n",
    "N_A     = 6.022e23                                                                                       #Avogadro's number\n",
    "yr      = 3600 * 24 * 365.35 * s                                                                                      #Year"
   ]
  },
  {
   "cell_type": "markdown",
   "metadata": {},
   "source": [
    "# Tasks\n",
    "\n",
    "This week we focus on direct detection of dark matter, namely through the Xenon experiments.\n",
    "In this notebook we tackle two main exercises:\n",
    "\n",
    "1) First, we calculate the expected 95% C.L. upper limits on the WIMP-proton cross section, as a function of the DM mass.\n",
    "\n",
    "2) Secondly, we determine the 68% and 95% contours for the DM mass - cross section plane."
   ]
  },
  {
   "cell_type": "code",
   "execution_count": null,
   "metadata": {},
   "outputs": [],
   "source": [
    "A_Xe = 131.293\n",
    "rho_DM = 0.3 * GeV / cm**3\n",
    "m_DM = 100 * GeV\n",
    "v = 220 * km / s"
   ]
  },
  {
   "cell_type": "code",
   "execution_count": null,
   "metadata": {},
   "outputs": [],
   "source": [
    "def m_red(m_DM,m_N = m_p):\n",
    "    \"\"\"Calculate the reduced mass\"\"\"\n",
    "    return m_DM * m_N / (m_DM + m_N)\n",
    "\n",
    "def f_r(m_DM,m_N = m_p):\n",
    "    \"\"\"Calculate the variable r\"\"\"\n",
    "    return 4 * m_DM * m_N / (m_DM + m_N)**2"
   ]
  },
  {
   "cell_type": "markdown",
   "metadata": {},
   "source": [
    "# Task 1: Upper limits\n",
    "\n",
    "In the cells below we determine the 95% upper limits on the cross section as a function of the DM mass. We do this by evaluatiing the DM-Xenon interaction rate, given by:\n",
    "\n",
    "$ R = R_0 e^{-3 / (r E_0)}$ [(A.P. Colijn, 2015)](https://indico.nikhef.nl/event/869/material/0/1.pdf). Here $R_0$ is the total interaction rate, and we take the recoil energy threshold to be 3 keV.\n",
    "\n",
    "The total interaction rate $R_0$ is given by  $ R_0 = \\frac{ \\rho_{DM}}{m_{DM}} \\frac{v \\sigma N_A}{A_{Xe}} \\mu^2 \\frac{A_{Xe}}{m_p^2}  $. Here $\\mu$ is the reduced mass (defined in the cells above), v is the velocity of the DM with respect to the detector (i.e. the velocity of the sun/earth in the galactic plane), $A_{Xe}$ is the atomic mass number of Xenon. Most of these expressions are defined in the cells above.\n",
    "\n",
    "In order to determine the 95% C.L. upper limit, we must determine the point at which the interaction rate is equal to three per year. This is all calculated in the cells below."
   ]
  },
  {
   "cell_type": "code",
   "execution_count": null,
   "metadata": {},
   "outputs": [],
   "source": [
    "def NoE(sigma, m_DM, m_det, t):\n",
    "    \"\"\"Calculate the number of events\"\"\"\n",
    "    R0 = rho_DM / m_DM * v * sigma * N_A / (A_Xe * gr) * m_red(m_DM)**2 * A_Xe**2 / m_p**2\n",
    "    E0 = 0.5 * m_DM * v**2\n",
    "    r = f_r(m_DM, A_Xe * m_p)\n",
    "    Rate = R0 * np.exp(-3 * keV / (r * E0))\n",
    "    return Rate * m_det * t\n",
    "\n",
    "def NoE3(sigma,m_DM,m_det = 500* kg,t = yr):\n",
    "    return NoE(sigma, m_DM, m_det, t) - 3"
   ]
  },
  {
   "cell_type": "code",
   "execution_count": null,
   "metadata": {},
   "outputs": [],
   "source": [
    "def CL95(m_DM):\n",
    "    \"\"\"Calculate the upper limit\"\"\" \n",
    "    return root(NoE3,1.0e-45*cm**2,args=(m_DM))"
   ]
  },
  {
   "cell_type": "code",
   "execution_count": null,
   "metadata": {},
   "outputs": [],
   "source": [
    "arr_mass = np.linspace(6*GeV,1.0e3*GeV,1.0e3)\n",
    "L_sigma = []\n",
    "for mass in arr_mass:\n",
    "    L_sigma.append(CL95(mass)['x'])\n",
    "\n",
    "arr_sigma = np.asarray(L_sigma)"
   ]
  },
  {
   "cell_type": "code",
   "execution_count": null,
   "metadata": {},
   "outputs": [],
   "source": [
    "plt.plot(arr_mass/GeV,arr_sigma/cm**2)\n",
    "plt.xscale('log')\n",
    "plt.yscale('log')\n",
    "plt.xlabel(r'$m_{DM}\\,[GeV]$')\n",
    "plt.ylabel(r'$\\sigma\\,[cm^2]$')\n",
    "plt.title(r'$95\\%$ upper limit for WIMP-proton coupling cross-section as function of dark matter mass')\n",
    "plt.show()"
   ]
  },
  {
   "cell_type": "markdown",
   "metadata": {},
   "source": [
    "If we compare this plot to the latest results of the [XENON1T experiment](http://www.xenon1t.org/), we see that the shape of the upper bound is the same, but we are a few orders of magnitude off. The location of the local mimimum is approximately the same."
   ]
  },
  {
   "cell_type": "markdown",
   "metadata": {},
   "source": [
    "# Task 2: Confidence level contours\n",
    "\n",
    "In the cells below we tackle the second task: determining the 68% and 95% C.L. contours in the WIMP-proton coupling cross-section vs DM mass plane.\n",
    "\n",
    "We take the same expression for the interaction rate as above, and compare it to 'measurements'. We say that there are 10 measured events with recoil energies between 3 keV and 10 keV, and 5 measured events with recoil energies between 10 keV and 20 keV. \n",
    "\n",
    "We determine the contour by comparing our model with the measurements using the following $\\chi^2$ formula:\n",
    "\n",
    "$ \\chi^2 = \\Sigma_i \\frac{ (x_i - R_i)^2 }{ R_i }, $ where $x_i$ is the measured interaction rate for a given energy band, and $R_i$ is our modeled interaction rate for a given energy band, DM mass and interaction cross-section."
   ]
  },
  {
   "cell_type": "code",
   "execution_count": null,
   "metadata": {},
   "outputs": [],
   "source": [
    "def NoE_p2(sigma, m_DM, m_det, t, lower = 3, upper = 10):\n",
    "    \"\"\"Calculate the number of expected events within a given energy band\"\"\"\n",
    "    R0 = rho_DM / m_DM * v * sigma * N_A / (A_Xe * gr) * m_red(m_DM)**2 * A_Xe**2 / m_p**2\n",
    "    E0 = 0.5 * m_DM * v**2\n",
    "    r = f_r(m_DM, A_Xe * m_p)\n",
    "    Rate = R0 * (np.exp(-lower * keV / (r * E0)) - np.exp(-upper * keV / (r * E0)))\n",
    "    return Rate * m_det * t\n",
    "\n",
    "def CHI_CHI(sigma, m_DM, measured, bands, m_det = 500* kg, t = yr):\n",
    "    \"\"\"Chi-squared function\"\"\"\n",
    "    chi_sq = 0\n",
    "    for i in range(len(measured)):\n",
    "        number = NoE_p2(sigma, m_DM, m_det, t, lower = bands[i][0], upper = bands[i][1])\n",
    "        chi_sq += ((measured[i]-number)**2 ) /number\n",
    "    return chi_sq"
   ]
  },
  {
   "cell_type": "code",
   "execution_count": null,
   "metadata": {},
   "outputs": [],
   "source": [
    "# grid size\n",
    "num = 200\n",
    "\n",
    "# create a grid (2d array) with logarithmically spaced masses and cross-sections\n",
    "MN = np.array([10,5])\n",
    "bands = np.array([(3,10),(10,20)])\n",
    "arr_m = np.logspace(np.log(6)/np.log(10),3,num) * GeV\n",
    "arr_sigma = np.logspace(-39,-44,num) * cm**2\n",
    "xx, yy = np.meshgrid(arr_m,arr_sigma)\n",
    "\n",
    "# calculate the value for chi-squared for each point on the grid\n",
    "heatmap = CHI_CHI(yy, xx, MN, bands, m_det = 500* kg, t = yr)\n",
    "\n",
    "# determine lowest value of chi-squared and determine 68% and 95% confidence bands corresponding to 2.26 and 6 respectively\n",
    "lowest_chi = np.amin(heatmap)\n",
    "niveaus = np.array([0,2.26,6])\n",
    "niveaus += lowest_chi\n",
    "\n",
    "plt.figure(1,figsize=(12, 9)) \n",
    "plt.pcolormesh(arr_m/GeV,arr_sigma/(cm**2),heatmap[:-1,:-1],cmap = 'ocean',norm = matplotlib.colors.LogNorm())\n",
    "plt.xscale('log')\n",
    "plt.yscale('log')\n",
    "plt.colorbar()\n",
    "cs = plt.contour(arr_m/GeV,arr_sigma/(cm**2),heatmap,cmap = 'summer',levels = niveaus)\n",
    "plt.xlabel(r'Mass [GeV]')\n",
    "plt.ylabel(r'$\\sigma$ [cm^2]')\n",
    "plt.title(r'Reconstruction contours in the WIMP-proton coupling cross-section vs dark matter mass plane')\n",
    "\n",
    "labels = ['95% confidence level','68% confidence level']\n",
    "for i in range(0,len(labels)):\n",
    "    cs.collections[i].set_label(labels[i])\n",
    "\n",
    "plt.legend(loc='upper right')\n",
    "plt.show()"
   ]
  },
  {
   "cell_type": "markdown",
   "metadata": {},
   "source": [
    "In the plot above, the yellow contour represents the 95% confidence region, whilst the light-blue line represents the 68% confidence level region. This plot looks very similar to that found by [the Xenon-1-ton project](http://www.xenon1t.org/)."
   ]
  },
  {
   "cell_type": "markdown",
   "metadata": {},
   "source": [
    "# Other used references and sources\n",
    "\n",
    "*Notes on direct DM detection by A.P. Colijn \"PARTICLE\tCOSMOLOGY: DM DIRECT\tDETECTION\", University of Amsterdam,December 2015\n",
    "\n",
    "*Advanced Statistics lecture notes by C. Weniger, University of Amsterdam, 2019\n",
    "\n",
    "*Compared our results with the [Xenon 1 ton experiment](http://www.xenon1t.org/)"
   ]
  }
 ],
 "metadata": {
  "kernelspec": {
   "display_name": "Python 3",
   "language": "python",
   "name": "python3"
  },
  "language_info": {
   "codemirror_mode": {
    "name": "ipython",
    "version": 3
   },
   "file_extension": ".py",
   "mimetype": "text/x-python",
   "name": "python",
   "nbconvert_exporter": "python",
   "pygments_lexer": "ipython3",
   "version": "3.6.5"
  }
 },
 "nbformat": 4,
 "nbformat_minor": 2
}

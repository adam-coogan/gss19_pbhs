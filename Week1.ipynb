{
 "cells": [
  {
   "cell_type": "markdown",
   "metadata": {},
   "source": [
    "# Grappa Student Seminar\n",
    "### Weekly programming assignments - Week 1\n",
    "#### Dylan van Arneman, Gijs Leguijt, Sven Poelmann, Yoran Yeh"
   ]
  },
  {
   "cell_type": "markdown",
   "metadata": {},
   "source": [
    "[Github link](https://github.com/adam-coogan/GRAPPA_Student_Seminar_2019)\n",
    "\n",
    "Support $\\LaTeX$"
   ]
  },
  {
   "cell_type": "markdown",
   "metadata": {},
   "source": [
    "$H(T_{fo})=\\Gamma(T_{fo}) = v(T_{fo})n(T_{fo})\\sigma(T_{fo})$"
   ]
  },
  {
   "cell_type": "markdown",
   "metadata": {},
   "source": [
    "## Imports"
   ]
  },
  {
   "cell_type": "code",
   "execution_count": 7,
   "metadata": {},
   "outputs": [],
   "source": [
    "import numpy as np\n",
    "import matplotlib.pyplot as plt\n",
    "import pandas as pd\n",
    "from scipy.constants import *\n",
    "import matplotlib\n",
    "matplotlib.rcParams['text.usetex'] = True\n",
    "matplotlib.rcParams['text.latex.unicode'] = True\n",
    "%matplotlib inline"
   ]
  },
  {
   "cell_type": "markdown",
   "metadata": {},
   "source": [
    "## Units & Constants"
   ]
  },
  {
   "cell_type": "markdown",
   "metadata": {},
   "source": [
    "We used natural units, $c = \\hbar = k_B = 1$, the following constants are used to convert units."
   ]
  },
  {
   "cell_type": "code",
   "execution_count": 8,
   "metadata": {},
   "outputs": [],
   "source": [
    "\"\"\"Ünits____________________________________________________\"\"\"\n",
    "eV = 1                                           #electron volt\n",
    "\n",
    "J = eV / e                                               #Joule\n",
    "s = 1 / (hbar * J)                                      #second\n",
    "m = s / c                                                #meter\n",
    "kg = J * c**(-2)                                     #kilograms\n",
    "K = J * k                                               #Kelvin\n",
    "\n",
    "\"\"\"Constants________________________________________________\"\"\" \n",
    "\n",
    "G = G * (m**3 / (kg * s**2))                   #Newton constant\n",
    "M_pl = value('Planck mass') * kg                   #Planck mass\n",
    "GeV = 1.0e9 * eV                            #Giga electron volt\n",
    "G_f = value('Fermi coupling constant') / GeV**2 #Fermi constant\n",
    "T_CMB = 2.725 * K\n",
    "Mpc = 3.085e22 * m\n",
    "H = 67.8e3 * (m / s) / Mpc\n",
    "h_hub = H / (1.0e5 * (m / s) / Mpc)\n",
    "rho_c = 1.9e-26 * h_hub**2 * kg / m**3"
   ]
  },
  {
   "cell_type": "markdown",
   "metadata": {},
   "source": [
    "## Code"
   ]
  },
  {
   "cell_type": "markdown",
   "metadata": {},
   "source": [
    "$n \\sim \\frac{m^3}{x^{3/2}} e^{-x}$ and we know $H(T_{fo}) \\sim \\frac{T^2_{fo}}{M_{pl}}$\n",
    "\n",
    "$H \\sim n\\sigma v \\Rightarrow \\frac{T^2_{fo}}{M_{pl}} = \\frac{m^3}{x^{3/2}} e^{-x} \\sigma$\n",
    "\n",
    "$\\frac{m^3}{x^{3/2}_0} e^{-x_0} = \\frac{T_{fo}^2}{M_{pl}\\sigma} = \\frac{m^2}{x^{2}_0 M_{pl} \\sigma} $"
   ]
  },
  {
   "cell_type": "markdown",
   "metadata": {},
   "source": [
    "### Hot Dark Matter"
   ]
  },
  {
   "cell_type": "markdown",
   "metadata": {},
   "source": [
    "For Hot Dark Matter $ n \\propto T^3$ since the particles are relativistic.\n",
    "$\\sigma n = H \\Rightarrow \\sigma T^3_{fo} = \\frac{T^2_{fo}}{M_{pl}} = T_{fo} = \\frac{1}{\\sigma M_{pl}}$\n",
    "\n",
    "$n = \\frac{H}{\\sigma} = \\frac{T^2_{fo}}{M_{pl} \\sigma} = \\frac{m^2}{x_0^2 M_{pl} \\sigma}$\n",
    "\n",
    "$\\Omega_{HDM} = \\frac{\\rho_{HDM}}{\\rho_c} = \\frac{m n(T_0)}{\\rho_c} = \\frac{m T^3_0}{\\rho_c} \\frac{n(T_0)}{T^3_0} $\n",
    "$ = \\frac{m T^3_0}{\\rho_c} \\frac{n(T_{fo})}{T^3_{fo}} = \\frac{T^3_0}{\\rho_c} x_{fo} (\\frac{???}{T_{fo}^2}) = \\frac{T^3_0}{\\rho_c M_{pl}} \\frac{x_{fo}}{\\sigma} $"
   ]
  },
  {
   "cell_type": "code",
   "execution_count": 9,
   "metadata": {},
   "outputs": [],
   "source": [
    "mass = np.linspace(10,100,50) * GeV\n",
    "dof = 1\n",
    "zheta_3 = 1.202\n",
    "Omega_hdm = mass * T_CMB**3 / rho_c * zheta_3 * dof / np.pi**2"
   ]
  },
  {
   "cell_type": "code",
   "execution_count": 19,
   "metadata": {},
   "outputs": [
    {
     "data": {
      "image/png": "[encoded data removed]",
      "text/plain": [
       "<Figure size 1008x432 with 1 Axes>"
      ]
     },
     "metadata": {},
     "output_type": "display_data"
    }
   ],
   "source": [
    "plt.figure(1,figsize=(14, 6))\n",
    "\n",
    "plt.plot(mass,Omega_hdm, )\n",
    "plt.ylabel(r'$\\Omega_{HDM}$ [$GeV^4$] ',fontsize=18)\n",
    "plt.xlabel(r'Mass [$GeV$]',fontsize=18)\n",
    "\n",
    "plt.tick_params(axis='both', which='major', labelsize=20)\n",
    "plt.title(r'$\\Omega_{HDM}$ \\textbf{ for Hot Dark Matter}',fontsize=20)\n",
    "plt.grid(True)\n",
    "\n",
    "# plt.legend(prop=dict(size=18))\n",
    "plt.savefig('Part3_sin.png', dpi=300)\n",
    "plt.show()"
   ]
  },
  {
   "cell_type": "markdown",
   "metadata": {},
   "source": [
    "### Cold Dark Matter"
   ]
  },
  {
   "cell_type": "markdown",
   "metadata": {},
   "source": [
    "For Cold Dark Matter: $e^{-x_0} \\sqrt{x_0} = \\frac{1}{M_pl m \\sigma} \\equiv K$\n",
    "\n",
    "$\\ln{e^{-x_0} \\sqrt{x_0}} = \\ln{K}$ \n",
    "$\\Rightarrow \\ln{\\sqrt{x_0}}-x_0 = \\frac{1}{2} \\ln{x_0} - x_0 = \\ln{K}$\n",
    "\n",
    "To solve this for $T_{fo}$ we can either solve this numerically or use $T_{fo} \\gg m $\n",
    "\n",
    "Using $T_{fo} \\gg m $ we get:\n",
    "$x_{fo} = -\\ln{K} = -\\ln{\\frac{1}{(M_{pl} m \\sigma)}} = \\ln{(M_{pl} m \\sigma)} \\Rightarrow T_{fo} = \\frac{m}{\\ln{(M_{pl} m \\sigma)}}$\n",
    "\n",
    "This gives: $\\Omega_{CDM} = \\frac{T^3_0}{M_{pl} \\rho_c} \\frac{x_{fo}}{\\sigma} = \\frac{T^3_0}{M_{pl} \\rho_c} \\frac{\\ln{(M_{pl} m \\sigma)}}{\\sigma}$"
   ]
  },
  {
   "cell_type": "markdown",
   "metadata": {},
   "source": []
  },
  {
   "cell_type": "code",
   "execution_count": null,
   "metadata": {},
   "outputs": [],
   "source": []
  }
 ],
 "metadata": {
  "kernelspec": {
   "display_name": "Python 3",
   "language": "python",
   "name": "python3"
  },
  "language_info": {
   "codemirror_mode": {
    "name": "ipython",
    "version": 3
   },
   "file_extension": ".py",
   "mimetype": "text/x-python",
   "name": "python",
   "nbconvert_exporter": "python",
   "pygments_lexer": "ipython3",
   "version": "3.6.5"
  }
 },
 "nbformat": 4,
 "nbformat_minor": 2
}

{
 "cells": [
  {
   "cell_type": "markdown",
   "metadata": {},
   "source": [
    "# Grappa Student Seminar\n",
    "### Weekly programming assignments - Week 1\n",
    "#### Dylan van Arneman, Gijs Leguijt, Sven Poelmann, Yoran Yeh"
   ]
  },
  {
   "cell_type": "markdown",
   "metadata": {},
   "source": [
    "[Github link](https://github.com/adam-coogan/GRAPPA_Student_Seminar_2019)\n",
    "\n",
    "Support $\\LaTeX$"
   ]
  },
  {
   "cell_type": "markdown",
   "metadata": {},
   "source": [
    "$H(T_{fo})=\\Gamma(T_{fo}) = v(T_{fo})n(T_{fo})\\sigma(T_{fo})$"
   ]
  },
  {
   "cell_type": "markdown",
   "metadata": {},
   "source": [
    "### Imports"
   ]
  },
  {
   "cell_type": "code",
   "execution_count": 125,
   "metadata": {},
   "outputs": [],
   "source": [
    "import numpy as np\n",
    "import matplotlib.pyplot as plt\n",
    "import pandas as pd\n",
    "from scipy.constants import *\n",
    "\n",
    "%matplotlib inline"
   ]
  },
  {
   "cell_type": "markdown",
   "metadata": {},
   "source": [
    "### Units & Constants"
   ]
  },
  {
   "cell_type": "code",
   "execution_count": 130,
   "metadata": {},
   "outputs": [],
   "source": [
    "\"\"\"Ünits____________________________________________________\"\"\"\n",
    "eV = 1                                           #electron volt\n",
    "\n",
    "J = eV / e                                               #Joule\n",
    "s = 1 / (hbar * J)                                      #second\n",
    "m = s / c                                                #meter\n",
    "kg = J * c**(-2)                                     #kilograms\n",
    "K = J * k                                               #Kelvin\n",
    "\n",
    "\"\"\"Constants________________________________________________\"\"\" \n",
    "\n",
    "G = G * (m**3 / (kg * s**2))                   #Newton constant\n",
    "M_pl = value('Planck mass') * kg                   #Planck mass\n",
    "GeV = 1.0e9 * eV                            #Giga electron volt\n",
    "G_f = value('Fermi coupling constant') / GeV**2 #Fermi constant\n",
    "T_CMB = 2.725 * K\n",
    "Mpc = 3.085e22 * m\n",
    "H = 67.8e3 * (m / s) / Mpc\n",
    "h_hub = H / (1.0e5 * (m / s) / Mpc)\n",
    "rho_c = 1.9e-26 * h_hub**2 * kg / m**3"
   ]
  },
  {
   "cell_type": "markdown",
   "metadata": {},
   "source": [
    "### Code"
   ]
  },
  {
   "cell_type": "code",
   "execution_count": 133,
   "metadata": {},
   "outputs": [],
   "source": [
    "mass = np.linspace(10,100,50) * GeV\n",
    "dof = 1\n",
    "zheta_3 = 1.202\n",
    "Omega_hdm = mass * T_CMB**3 / rho_c * zheta_3 * dof / np.pi**2"
   ]
  },
  {
   "cell_type": "code",
   "execution_count": 134,
   "metadata": {},
   "outputs": [
    {
     "data": {
      "text/plain": [
       "[<matplotlib.lines.Line2D at 0x1f4d3ed0160>]"
      ]
     },
     "execution_count": 134,
     "metadata": {},
     "output_type": "execute_result"
    },
    {
     "data": {
      "image/png": "[encoded data removed]",
      "text/plain": [
       "<Figure size 432x288 with 1 Axes>"
      ]
     },
     "metadata": {},
     "output_type": "display_data"
    }
   ],
   "source": [
    "plt.plot(mass,Omega_hdm)"
   ]
  },
  {
   "cell_type": "code",
   "execution_count": null,
   "metadata": {},
   "outputs": [],
   "source": []
  }
 ],
 "metadata": {
  "kernelspec": {
   "display_name": "Python 3",
   "language": "python",
   "name": "python3"
  },
  "language_info": {
   "codemirror_mode": {
    "name": "ipython",
    "version": 3
   },
   "file_extension": ".py",
   "mimetype": "text/x-python",
   "name": "python",
   "nbconvert_exporter": "python",
   "pygments_lexer": "ipython3",
   "version": "3.6.5"
  }
 },
 "nbformat": 4,
 "nbformat_minor": 2
}
